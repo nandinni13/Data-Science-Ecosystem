{
 "cells": [
  {
   "cell_type": "markdown",
   "id": "b7b794b5-7d3a-40db-9c45-fca100a1e733",
   "metadata": {},
   "source": [
    "# Tools For Data Sciences Final Assignment"
   ]
  },
  {
   "cell_type": "markdown",
   "id": "9469aed4-c798-43fd-b448-e4be11cbca30",
   "metadata": {},
   "source": [
    "# Data Science Tools and Ecosystem"
   ]
  },
  {
   "cell_type": "markdown",
   "id": "9444091d-98f6-4a9b-a568-cea34ed01c2d",
   "metadata": {},
   "source": [
    "In this notebook, Data Science Tools and Ecosystem are summarized."
   ]
  },
  {
   "cell_type": "markdown",
   "id": "9ea6ad69-d0d3-481c-b574-7aa07a4ebc23",
   "metadata": {},
   "source": [
    "Some of the popular languages that Data Scientists use are:\n",
    "1. Python\n",
    "2. R\n",
    "3. SQL\n",
    "4. Java\n",
    "5. JavaScript\n",
    "6. Ruby\n",
    "7. PHP\n",
    "8. C++\n",
    "9. Scala\n",
    "10. Visual Basic"
   ]
  },
  {
   "cell_type": "markdown",
   "id": "7c82151a-5994-45d4-8d05-0294ea06dd95",
   "metadata": {},
   "source": [
    "Some of the commonly used libraries used by Data Scientists include:\n",
    "1. NumPy\n",
    "2. SciPy\n",
    "3. TensorFlow\n",
    "4. Matplotlib\n",
    "5. PyTorch"
   ]
  },
  {
   "cell_type": "markdown",
   "id": "45a81b7a-c977-455d-a1ca-b46bf9adc17f",
   "metadata": {},
   "source": [
    "**Data Science Tools:\n",
    "1. RStudio\n",
    "2. Apache Spark\n",
    "3. TensorFlow"
   ]
  },
  {
   "cell_type": "markdown",
   "id": "cf57fb8f-2d6e-476b-8bfe-727803c020d6",
   "metadata": {
    "tags": []
   },
   "source": [
    "**Objectives:\n",
    "* Popular Data Science Languages\n",
    "* Most popular and user friendly Open Source Tools\n",
    "* IBM Tools for Data Science"
   ]
  },
  {
   "cell_type": "markdown",
   "id": "80df2c91-35b5-4360-b3fd-c954839cc2cd",
   "metadata": {},
   "source": [
    "### Below are a few examples of evaluating arithmetic expressions in Python:"
   ]
  },
  {
   "cell_type": "code",
   "execution_count": 4,
   "id": "92d9d7b2-8f4d-4e84-bfc9-423a89e901b5",
   "metadata": {
    "tags": []
   },
   "outputs": [
    {
     "name": "stdout",
     "output_type": "stream",
     "text": [
      "17\n"
     ]
    }
   ],
   "source": [
    "# This a simple arithmetic expression to mutiply then add integers\n",
    "result = (3*4)+5\n",
    "print(result)"
   ]
  },
  {
   "cell_type": "code",
   "execution_count": 5,
   "id": "9874a818-2150-4178-9768-1f1cc43b73e5",
   "metadata": {},
   "outputs": [
    {
     "name": "stdout",
     "output_type": "stream",
     "text": [
      "3.3333333333333335\n"
     ]
    }
   ],
   "source": [
    "# This will convert 200 minutes to hours by diving by 60\n",
    "hours = 200/60\n",
    "print(hours)"
   ]
  },
  {
   "cell_type": "markdown",
   "id": "3f5b443a-314e-4d1e-a1fe-57b54ab0ae5d",
   "metadata": {},
   "source": [
    "## Author\n",
    "Nandini Agrawal"
   ]
  }
 ],
 "metadata": {
  "kernelspec": {
   "display_name": "Python",
   "language": "python",
   "name": "conda-env-python-py"
  },
  "language_info": {
   "codemirror_mode": {
    "name": "ipython",
    "version": 3
   },
   "file_extension": ".py",
   "mimetype": "text/x-python",
   "name": "python",
   "nbconvert_exporter": "python",
   "pygments_lexer": "ipython3",
   "version": "3.7.12"
  }
 },
 "nbformat": 4,
 "nbformat_minor": 5
}
